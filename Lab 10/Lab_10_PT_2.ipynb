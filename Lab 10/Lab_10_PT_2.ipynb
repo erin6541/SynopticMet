{
 "cells": [
  {
   "cell_type": "markdown",
   "id": "29c9fd6d-b76d-4f97-80d9-3d7d40990ae7",
   "metadata": {},
   "source": [
    "## Lab 10 Part II: Plotting Satellite Data\n",
    "<br /><br />\n",
    "In this part of the tutorial, we create visible satellite imagery to compare with our model-derived upper-air plots from Part I.\n",
    "<br />\n",
    "### Module Documentation\n",
    "1. The datetime function from the datetime module: https://docs.python.org/3/library/datetime.html\n",
    "2. Cartopy Feature: https://scitools.org.uk/cartopy/docs/latest/matplotlib/feature_interface.html\n",
    "3. Matplotlib: https://matplotlib.org/\n",
    "4. Matplotlib Normalize: https://matplotlib.org/stable/api/_as_gen/matplotlib.colors.Normalize.html\n",
    "\n",
    "\n",
    "\n",
    "If you have any questions about the code below, feel free to reach out to me at mpvossen@uwm.edu. I am always willing to further explain the code. <br /> <br />\n",
    "\n",
    "---\n",
    "\n",
    "<br />\n",
    "1. As usual, we start by importing the modules we need for our Python code."
   ]
  },
  {
   "cell_type": "code",
   "execution_count": null,
   "id": "82d63adc-bc01-4fe9-acd2-3f80cc8e5bb3",
   "metadata": {},
   "outputs": [],
   "source": [
    "#import everything from the metpy module\n",
    "import metpy\n",
    "\n",
    "#from the plotting portion of metpy, import the add_timestamp function\n",
    "from metpy.plots import add_timestamp\n",
    "\n",
    "#import the crs part of the cartopy module for geographic parts of the data such as map projections\n",
    "import cartopy.crs as ccrs\n",
    "\n",
    "#import the feature part of the cartopy module for things such as state lines\n",
    "import cartopy.feature as cfeature\n",
    "\n",
    "#import the pyplot part of the matplotlib module\n",
    "import matplotlib.pyplot as plt\n",
    "\n",
    "#import the datetime feature of the datetime module\n",
    "from datetime import datetime\n",
    "\n",
    "#from the matplotlib module, in the colors part, import the Normalize function.  This is for adjusting the colors we use to plot the satellite data.\n",
    "from matplotlib.colors import Normalize\n",
    "\n",
    "#import the module xarray and save it to xr\n",
    "import xarray as xr\n",
    "\n",
    "#add this line so that the JupyterHub plots the maps within the Jupyter Notebook\n",
    "%matplotlib inline"
   ]
  },
  {
   "cell_type": "markdown",
   "id": "448f6ee3-d34d-4f46-acdc-442b19a3daff",
   "metadata": {},
   "source": [
    "<br /><br />\n",
    "2. Once again, the necessary satellite data have already been downloaded for you.  The cell below opens a GOES-16 visible satellite file for September 23rd, 2022 at 1800 UTC. "
   ]
  },
  {
   "cell_type": "code",
   "execution_count": null,
   "id": "f05e0462-63b4-4557-8dab-f2d4df2d2a02",
   "metadata": {},
   "outputs": [],
   "source": [
    "time = datetime(2022,9,23,18)\n",
    "\n",
    "#Specifying the data's location.\n",
    "lab_data_loc = \"/data/AtmSci360/Lab_10/\"\n",
    "\n",
    "#Open the satellite data with xarray. \n",
    "sat_data = xr.open_dataset(f\"{lab_data_loc}{time:%m%d%y_%H}_goes16.nc\", engine=\"netcdf4\")\n",
    "sat_data"
   ]
  },
  {
   "cell_type": "markdown",
   "id": "e11e57ed-bc7d-43a8-9b53-051cdd0e93e1",
   "metadata": {},
   "source": [
    "<br /> <br />\n",
    "3. Since the data are in the same format as in Lab 4 Part II, use the code block below to parse out the satellite data, get the projection, set up the colormap, and plot the visible satellite data.  Be sure to have an appropriate color map, number of labels, and geographical references for your satellite image.  Finally, add an appropriate title."
   ]
  },
  {
   "cell_type": "code",
   "execution_count": null,
   "id": "a5dc3638-07d8-4607-8ed9-29ea0d8acc96",
   "metadata": {},
   "outputs": [],
   "source": []
  },
  {
   "cell_type": "markdown",
   "id": "2ed22858-bbe2-4f0b-94e1-8a7d91c63715",
   "metadata": {},
   "source": [
    "### You have now completed the Python portion part of Lab 10.  Be sure upload a fully rendered version of this Jupyter Notebook to your GitHub repository."
   ]
  }
 ],
 "metadata": {
  "kernelspec": {
   "display_name": "Python 3 (ipykernel)",
   "language": "python",
   "name": "python3"
  },
  "language_info": {
   "codemirror_mode": {
    "name": "ipython",
    "version": 3
   },
   "file_extension": ".py",
   "mimetype": "text/x-python",
   "name": "python",
   "nbconvert_exporter": "python",
   "pygments_lexer": "ipython3",
   "version": "3.7.12"
  }
 },
 "nbformat": 4,
 "nbformat_minor": 5
}
