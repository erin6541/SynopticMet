{
 "cells": [
  {
   "cell_type": "markdown",
   "id": "d0091d9e-2896-4ecf-95f3-143837bb976a",
   "metadata": {},
   "source": [
    "## Lab 3: Plotting Surface Data and Comparing Surface to Upper-Air Data\n",
    "<br /><br />\n",
    "In this week's tutorial, we are going to cover how to plot surface observations using matplotlib, cartopy, and MetPy.  Once the tutorial is complete, you will have the maps you need to complete the rest of Lab 3.\n",
    "<br />\n",
    "### Module Documentation\n",
    "1. MetPy Metar Parsing Function: https://unidata.github.io/MetPy/latest/api/generated/metpy.io.parse_metar_file.html\n",
    "2. Datetime: https://docs.python.org/3/library/datetime.html\n",
    "3. Matplotlib Pyplot: https://matplotlib.org/stable/api/_as_gen/matplotlib.pyplot.html\n",
    "4. Caropy crs: https://scitools.org.uk/cartopy/docs/latest/reference/crs.html\n",
    "5. Cartopy Feature: https://scitools.org.uk/cartopy/docs/latest/matplotlib/feature_interface.html\n",
    "6. Metpy Station Plot: https://unidata.github.io/MetPy/latest/examples/plots/Station_Plot.html\n",
    "\n",
    "\n",
    "\n",
    "\n",
    "If you have any questions about the code below, feel free to reach out to me at mpvossen@uwm.edu. I am always willing to further explain the code. <br /> <br />\n",
    "\n",
    "---\n",
    "\n",
    "### Part I: Surface Plots\n",
    "<br />\n",
    "1. As usual, we start by importing the modules we need for our Python code."
   ]
  },
  {
   "cell_type": "code",
   "execution_count": null,
   "id": "533aca43-8c0d-4847-b989-22caa2da3d08",
   "metadata": {},
   "outputs": [],
   "source": [
    "#from python's datetime module (from datetime) import the date and time capabilities (import datetime)\n",
    "from datetime import datetime\n",
    "#import the plotting abilities of the module matplotlib (import matplotlib.pyplot) and save it to the variable plt (as plt)\n",
    "import matplotlib.pyplot as plt\n",
    "#from metpy's plotting abilities (metpy.plots) import the abilities to create a station plot (StationPlot) and the sky cover symbols (sky_cover).\n",
    "from metpy.plots import StationPlot, sky_cover, current_weather\n",
    "#import the cartopy (cartopy) module's coordinate reference system (.crs) and save it to the variable crs\n",
    "import cartopy.crs as crs\n",
    "#import the cartopy (cartopy) module's ability to plot geographic data (.feature) and save it to the variable cfeature \n",
    "import cartopy.feature as cfeature\n",
    "#from the metpy's units feature (metpy.units) import the ability to assign and convert units (units)\n",
    "from metpy.units import units\n",
    "#from python's data import module (io) import the ability to read a string as a file.  This allows us to avoid downloading files which speeds things up and keeps your files storage clean.\n",
    "from io import StringIO\n",
    "#import the module to download files from the internet \n",
    "import requests\n",
    "#from metpy's calculation abilities import the function to reduce the number of observations\n",
    "from metpy.calc import reduce_point_density\n",
    "#from metpy's ability to read files, from the metar functions import the parse_metar_file function\n",
    "from metpy.io.metar import parse_metar_file\n",
    "\n",
    "#add this line so that the JupyterHub plots the maps within the Jupyter Notebook\n",
    "%matplotlib inline"
   ]
  },
  {
   "cell_type": "markdown",
   "id": "3879e0cf-32a1-4000-8e98-03de222bfce8",
   "metadata": {},
   "source": [
    "<br /><br />\n",
    "2. Like we have done in previous labs, set the obs_time variable to a datetime specifically for September 14, 2022 at 1200 UTC"
   ]
  },
  {
   "cell_type": "code",
   "execution_count": null,
   "id": "1686d814-1305-4591-9a84-8878645e1f2d",
   "metadata": {},
   "outputs": [],
   "source": [
    "obs_time ="
   ]
  },
  {
   "cell_type": "markdown",
   "id": "c1dd15a3-f186-470b-bc58-1b5b132e0a31",
   "metadata": {},
   "source": [
    "<br /><br />\n",
    "3. In the code section below, I download the METAR data for the date and time that we have specified - just like we did in Lab 1 Part I."
   ]
  },
  {
   "cell_type": "code",
   "execution_count": null,
   "id": "da08e8f5-88d1-43b5-aebc-0ac4734ed600",
   "metadata": {},
   "outputs": [],
   "source": [
    "#the url address to the metar file.\n",
    "url = f\"https://thredds-test.unidata.ucar.edu/thredds/fileServer/noaaport/text/metar/metar_{obs_time:%Y%m%d_%H}00.txt\"\n",
    "\n",
    "#from the request module, use the get function to retrieve the raw website data from the url we defined above\n",
    "web_data = requests.get(url)\n",
    "\n",
    "#Here we take the web data from before and pull the content (.content) from the web_data object.  \n",
    "#Then we take the content and decode it to something that we can use rather than the website html (.decode()).\n",
    "web_content = web_data.content.decode()\n",
    "\n",
    "#Here we take the decoded web content from above and make it a file object.  This avoids downloading the data to your file system which\n",
    "#speeds things up, and it keeps your file space from becoming cluttered.  Instead, this puts the METAR file directly to the RAM of the machine.\n",
    "data_file = StringIO(web_content)\n",
    "\n",
    "\n",
    "#We now tell MetPy to parse out the file we have downloaded (data_file).  MetPy only can get the day of the month from the METAR,\n",
    "#so we need to specify the month (file_time.month) and year (file_time.year) from the file time that we set before\n",
    "#or else it will assume the current month and year.  \n",
    "metar_data = parse_metar_file(data_file, month = obs_time.month, year=obs_time.year)\n",
    "\n",
    "#Display the resulting METAR pandas-formatted DataFrame\n",
    "metar_data"
   ]
  },
  {
   "cell_type": "markdown",
   "id": "e209cbe6-65d0-461c-96e9-914b3250bb09",
   "metadata": {},
   "source": [
    "<br /><br />\n",
    "4. As with any plot we make, we must first set the projection that we want to use for the map.  In the code block below, setup a Lambert Conformal Conic Projection centered at 40&deg;N and 95&deg;W.  Have the cone of the Lambert Conformal Conic projection intersect at 30&deg;N and 50&deg;N."
   ]
  },
  {
   "cell_type": "code",
   "execution_count": null,
   "id": "0abe2170-db48-4fe4-b7bd-3496afb5e022",
   "metadata": {},
   "outputs": [],
   "source": [
    "proj = "
   ]
  },
  {
   "cell_type": "markdown",
   "id": "4ec3d88b-d646-4de1-a053-1674df4568cb",
   "metadata": {},
   "source": [
    "<br /><br />\n",
    "5. Now that we have specified the projection, let's convert the points from the latitude and longitude coordinate system to a coordinate system that works with the projection we just specified.  When complete, the function will output x/y (or Cartesian) distances from the map's center point to each other point.  These x/y (or Cartesian) positions will be used later."
   ]
  },
  {
   "cell_type": "code",
   "execution_count": null,
   "id": "6bd93999-76a5-4a79-a6fc-f55375076dfc",
   "metadata": {},
   "outputs": [],
   "source": [
    "#projection_variable.transform_points(coordinate system data is in, longitude value, latitude value)\n",
    "point_locs = proj.transform_points(crs.PlateCarree(), metar_data['longitude'].values,metar_data['latitude'].values)\n",
    "point_locs"
   ]
  },
  {
   "cell_type": "markdown",
   "id": "c91f3bf8-cf4b-4373-852b-9971bdbec243",
   "metadata": {},
   "source": [
    "<br /><br />\n",
    "6. If we were to plot every station available in the data we downloaded, the data would be so dense that we would never be able read the plot.  So, in the code section below, we are going to reduce the number observations using MetPy's reduce_point_density function.  The reduce_point_density function allows us to specify to keep only those observations that are not within a specified radius of another kept observation.  In the case below, I've specified this radius to be 150 km. <br /><br /> The variable metar_data (created in step 3 above) is a pandas DataFrame.  The function reduce_point_density returns the indices from this DataFrame that we need to keep to reduce the data's density by the just-specified amount.  The point_locs variable that we created in step 5 (with the x and y values) is the first of the inputs for the reduce_point_desnsity function and the second input is the spacing radius in meters."
   ]
  },
  {
   "cell_type": "code",
   "execution_count": null,
   "id": "3e607efb-52a5-432e-bd7f-f9a99b17e18a",
   "metadata": {},
   "outputs": [],
   "source": [
    "data = metar_data[reduce_point_density(point_locs, 150000.)]"
   ]
  },
  {
   "cell_type": "markdown",
   "id": "15d97907-c32e-4caa-91a2-43ea8f023ff9",
   "metadata": {},
   "source": [
    "<br /><br />\n",
    "7. When using METAR data, the data are in a default set of units, which are not always the units in which we want our data.  We created conversion functions to address this problem in Lab 1, but there are multiple ways to address the unit conversion issue. Today, we are going to see how to do unit conversions in MetPy.  MetPy has the ability to attach units to a single value or to every value in an array.  Attaching units with MetPy can be useful when using MetPy calculation functions (as we will be using throughout the semester) since MetPy calculation functions look at a value's units and start off by automatically converting them to the units that the calculation function needs.  Adding units also allows us to use MetPy's unit conversion functionality, which is useful for when we aren't doing any calculations.  The table below shows the unit codes for a few of the units for which MetPy can work. <br /><br />\n",
    "\n",
    "| Unit | MetPy Code |\n",
    "|:----:|:----------:|\n",
    "| Degrees Fahrenheit | degF |\n",
    "| Degrees Celsius | degC |\n",
    "| Kelvin | kelvin |\n",
    "| Knots | kt |\n",
    "| Meters Per Second | mps |\n",
    "| Miles Per Hour | mph |\n",
    "<br />\n"
   ]
  },
  {
   "cell_type": "code",
   "execution_count": null,
   "id": "b3ecb3f7-acb6-4d2b-96a1-2586bec67f01",
   "metadata": {},
   "outputs": [],
   "source": [
    "#assign units to temperature\n",
    "temps = data[\"air_temperature\"].values * units.degC\n",
    "\n",
    "#convert the temperature to the desired units and save it back to the dataframe\n",
    "data[\"air_temperature\"] = temps.to(units.degF)"
   ]
  },
  {
   "cell_type": "markdown",
   "id": "fdc741a6-3b5b-4a82-bc7f-50d43c39982a",
   "metadata": {},
   "source": [
    "<br /><br />\n",
    "8. In the cell, below convert the dew-point temperature (dew_point_temperature), u-wind component (eastward_wind), and the v-wind component (northward_wind) from the standard METAR units to the appropriate imperial units."
   ]
  },
  {
   "cell_type": "code",
   "execution_count": null,
   "id": "47c2721c-9f7b-4d6a-b4ff-e93d693724d3",
   "metadata": {},
   "outputs": [],
   "source": []
  },
  {
   "cell_type": "markdown",
   "id": "736dc68c-40a7-4677-b898-000d5b8f6e0f",
   "metadata": {},
   "source": [
    "<br /><br />\n",
    "9. All of the data now having been wrangled (often 80+% of an atmospheric scientist's job!), we are ready to plot.  In the section below, I have written out some of the plotting code for you. The rest is left for you to complete.  Pay attention to the comments to know where you need to fill in with your own code."
   ]
  },
  {
   "cell_type": "code",
   "execution_count": null,
   "id": "5fd220e0-ee3c-410f-b30c-810b9f49c57b",
   "metadata": {},
   "outputs": [],
   "source": [
    "\"\"\"\n",
    "Create a figure with a size of 2000x1200 with a dpi of 300.\n",
    "\"\"\"\n",
    "\n",
    "fig = \n",
    "\n",
    "\"\"\"\n",
    "Create the subplot with the projection we defined before.\n",
    "\"\"\"\n",
    "\n",
    "ax = \n",
    "\n",
    "\"\"\"\n",
    "Add the states, borders, and coastlines to your map.  Be sure to have your borders setup with appropriate line colors and linewidths.\n",
    "\"\"\"\n",
    "\n",
    "# Set plot bounds (115-70°W, 24-53°N).\n",
    "ax.set_extent((-115, -70, 24, 53))\n",
    "\n",
    "\"\"\"\n",
    "Here we setup the station plot.  This line defines the observation locations.\n",
    "\n",
    "StationPlot(plot variable, longitude of each station, latitude of each station, clip_on=whether to clip off values that fall outside the plot,\n",
    "transform=the data's coordinate system, fontsize=the size of the data values)\n",
    "\"\"\"\n",
    "stationplot = StationPlot(ax, data['longitude'].values, data['latitude'].values,\n",
    "                          clip_on=True, transform=crs.PlateCarree(), fontsize=7)\n",
    "\n",
    "\"\"\"\n",
    "Plot the temperature and dew-point temperature in the standard station plot locations.  This can be accomplished the same way\n",
    "we plotted these variables in the upper-air plots in Lab 2.\n",
    "\"\"\"\n",
    "\n",
    "\"\"\"\n",
    "This line plots the sea-level pressure values.  In surface plots, the sea-level pressure is in the upper right, and so we tell \n",
    "MetPy to plot the sea-level pressure to the northeast ('NE') of the center.  We typically only want to plot the last three digits of \n",
    "the sea-level pressure value, and so we have to add a formatter to this argument to do so.  The lambda command in the formatter is essentially like a function.\n",
    "The lambda can take an argument, which in this case is v, and it has an expression, which in this case is the format function.  In the format function, we \n",
    "take the variable v and remove the decimal places (.0) while keeping the number as a float (f).  We multiply by 10 so we don't have the decimal place.  \n",
    "Once the format function is finished, we keep only the last three digits ([-3:]).\n",
    "\"\"\"\n",
    "stationplot.plot_parameter('NE', data['air_pressure_at_sea_level'].values,\n",
    "                           formatter=lambda v: format(10 * v, '.0f')[-3:])\n",
    "\n",
    "\"\"\"\n",
    "This line adds the cloud coverage symbol in the middle of our station plot.  In our ingested data, the cloud coverage comes as a number.  The object sky_cover that we imported\n",
    "at the start holds what symbol the number represents, and so the plot_symbol matches the number with the symbol and then plots the symbol.\n",
    "\n",
    "plot_symbol(location, symbol number code, object containing what symbol each number code matches)\n",
    "\n",
    "\"\"\"\n",
    "stationplot.plot_symbol('C', data['cloud_coverage'].values, sky_cover)\n",
    "\n",
    "\"\"\"\n",
    "This line plots the current weather symbol to the left of center (W).  Once again, this comes in as a number that we must match to a symbol to plot.  At the start, we \n",
    "imported the current_weather object which has the symbols that match the codes, allowing us to again use the plot_symbol function to plot the current weather.\n",
    "\n",
    "\"\"\"\n",
    "stationplot.plot_symbol('W', data['current_wx1_symbol'].values, current_weather)\n",
    "\n",
    "\"\"\"\n",
    "Plot the wind barbs for each station plot.  The u-component wind variable name is eastward_wind and the v-component variable name is northward_wind.\n",
    "\"\"\"\n",
    "\n",
    "\n",
    "\n",
    "\"\"\"\n",
    "Create an appropriate title for your map.  Be sure it includes the vertical level and data valid time.\n",
    "\"\"\"\n",
    "plot_title=\n",
    "    \n",
    "\"\"\"\n",
    "Here, I take our title and tell maptlotlib to add it to the plot.  I also tell matplotlib to plot the title so that it is in bold text (weight=\"bold\").\n",
    "\"\"\"\n",
    "plt.title(plot_title, weight=\"bold\")\n",
    "\n",
    "\n",
    "plt.show()"
   ]
  },
  {
   "cell_type": "markdown",
   "id": "be6b079d-4b33-4bea-a6dd-cb0ed84f46ed",
   "metadata": {},
   "source": [
    "<br /><br />\n",
    "### You have now completed the tutorial part of Lab 3.  Be sure upload a fully rendered version of this Jupyter Notebook to your GitHub repository."
   ]
  }
 ],
 "metadata": {
  "kernelspec": {
   "display_name": "Python 3 (ipykernel)",
   "language": "python",
   "name": "python3"
  },
  "language_info": {
   "codemirror_mode": {
    "name": "ipython",
    "version": 3
   },
   "file_extension": ".py",
   "mimetype": "text/x-python",
   "name": "python",
   "nbconvert_exporter": "python",
   "pygments_lexer": "ipython3",
   "version": "3.7.12"
  }
 },
 "nbformat": 4,
 "nbformat_minor": 5
}
