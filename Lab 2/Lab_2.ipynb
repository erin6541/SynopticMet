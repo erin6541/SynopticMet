{
 "cells": [
  {
   "cell_type": "markdown",
   "id": "d0091d9e-2896-4ecf-95f3-143837bb976a",
   "metadata": {},
   "source": [
    "## Lab 2: Plotting Upper-Air Data\n",
    "<br /><br />\n",
    "In this week's tutorial, we will cover how to plot upper-air observations using matplotlib, cartopy, and MetPy.  Once the tutorial is complete, you will have the maps you need to complete the rest of Lab 2.\n",
    "<br />\n",
    "### Module Documentation\n",
    "1. Siphon IAStateUpperAir: https://unidata.github.io/siphon/latest/api/simplewebservice.html#module-siphon.simplewebservice.iastate\n",
    "2. Datetime: https://docs.python.org/3/library/datetime.html\n",
    "3. Matplotlib Pyplot: https://matplotlib.org/stable/api/_as_gen/matplotlib.pyplot.html\n",
    "4. Caropy crs: https://scitools.org.uk/cartopy/docs/latest/reference/crs.html\n",
    "5. Cartopy Feature: https://scitools.org.uk/cartopy/docs/latest/matplotlib/feature_interface.html\n",
    "6. MetPy Station Plot: https://unidata.github.io/MetPy/latest/examples/plots/Station_Plot.html\n",
    "7. NumPy Zeros Function: https://numpy.org/doc/stable/reference/generated/numpy.zeros.html\n",
    "\n",
    "<br /><br />\n",
    "\n",
    "If you have any questions about the code below always feel free to reach out to me at mpvossen@uwm.edu and I am always willing to further explain the code. <br /> <br />\n",
    "\n",
    "---\n",
    "\n",
    "### Part I: 300 hPa\n",
    "<br />\n",
    "1. As usual, we start by importing the modules we need for our Python code."
   ]
  },
  {
   "cell_type": "code",
   "execution_count": 1,
   "id": "533aca43-8c0d-4847-b989-22caa2da3d08",
   "metadata": {},
   "outputs": [],
   "source": [
    "#from the siphon module's (from siphon) web data downloader (.simplewebservice) specifically for Iowa State (.iastate) import the upper air downloader (import IAStateUpperAir)\n",
    "from siphon.simplewebservice.iastate import IAStateUpperAir\n",
    "#from python's datetime module (from datetime) import the date and time capabilities (import datetime)\n",
    "from datetime import datetime\n",
    "#import the plotting abilities of the matplotlib module (import matplotlib.pyplot) and save it to the variable plt (as plt)\n",
    "import matplotlib.pyplot as plt\n",
    "#from metpy's plotting abilities (metpy.plots) import the abilities to create a station plot (StationPlot) and the sky cover symbols (sky_cover).\n",
    "from metpy.plots import StationPlot, sky_cover\n",
    "#import the cartopy (cartopy) module's coordinate reference system (.crs) and save it to the variable crs\n",
    "import cartopy.crs as crs\n",
    "#import the cartopy (cartopy) module's ability to plot geographic data (.feature) and save it to the variable cfeature \n",
    "import cartopy.feature as cfeature\n",
    "#from the metpy (metpy) module's ability to read and write files (.io) import the function to add latitude and longitude data for upper and surface station data (import add_station_lat_lon) \n",
    "from metpy.io import add_station_lat_lon\n",
    "#import the numpy module and save it to the variable np\n",
    "import numpy as np\n",
    "\n",
    "#add this line so that the JupyterHub plots the maps within the Jupyter Notebook\n",
    "%matplotlib inline"
   ]
  },
  {
   "cell_type": "markdown",
   "id": "a151866f-3e8a-45c7-b1a3-a84ff4525c79",
   "metadata": {},
   "source": [
    "<br /><br />\n",
    "2. We need to first choose the date and time for which we would like to download upper-air observations. Using the datetime function that we used in Lab 1, set the variable upper_air_time in the code cell below to September 14, 2022 at 1200 UTC."
   ]
  },
  {
   "cell_type": "code",
   "execution_count": null,
   "id": "1686d814-1305-4591-9a84-8878645e1f2d",
   "metadata": {},
   "outputs": [],
   "source": [
    "upper_air_time = "
   ]
  },
  {
   "cell_type": "markdown",
   "id": "ad876bc3-71e5-40bc-918d-936b05d01cda",
   "metadata": {},
   "source": [
    "<br /><br />\n",
    "3. Using siphon to download upper-air data allows us request only the data we need rather than the full dataset. One way in which this can be done is by specifying a single level to download. In the code below, I set our level to be 300 hPa:"
   ]
  },
  {
   "cell_type": "code",
   "execution_count": null,
   "id": "da08e8f5-88d1-43b5-aebc-0ac4734ed600",
   "metadata": {},
   "outputs": [],
   "source": [
    "level = 300"
   ]
  },
  {
   "cell_type": "markdown",
   "id": "f0f86c69-8b80-4c18-ae64-26e2988dbd9b",
   "metadata": {},
   "source": [
    "<br /><br />\n",
    "4. We are now ready to download our upper-air data.  Below I used the information specified earlier in this Notebook to download the upper air data from the Iowa State data server:"
   ]
  },
  {
   "cell_type": "code",
   "execution_count": null,
   "id": "79f159fa-0dae-4854-9dde-23aeb3b28546",
   "metadata": {},
   "outputs": [],
   "source": [
    "#using the Iowa State upper air downloader (IAStateUpperAir) I download all available data (.request_all_data()) for a specific time (upper_air_time) and specific pressure level (level)\n",
    "data = IAStateUpperAir.request_all_data(upper_air_time, level)\n",
    "\n",
    "#the Iowa State data does not natively have the latitude and longitude data for each station we need in order to plot.\n",
    "#Here, we use MetPy's ability to add latitude and longitude data to station data (add_station_lat_lon)\n",
    "#for the data we just downloaded (data) and save it to the variable data\n",
    "data = add_station_lat_lon(data)\n",
    "\n",
    "#print the upper-air data after we have added the latitude and longitude data.  Note that it is a pandas dataframe.\n",
    "data"
   ]
  },
  {
   "cell_type": "markdown",
   "id": "d83ce0b7-5d57-425d-b3c2-5a9fbfe85ee0",
   "metadata": {},
   "source": [
    "<br /><br />\n",
    "5. MetPy does not know the latitude and longitude for some stations in the downloaded data. For these stations, it inserted a missing value instead. This missing value will cause problems when we start to plot and thus we need to remove the data for those stations."
   ]
  },
  {
   "cell_type": "code",
   "execution_count": null,
   "id": "43e3c08f-7263-4f80-bc3b-fffcdd03e25b",
   "metadata": {},
   "outputs": [],
   "source": [
    "#the syntax below uses the pandas dropna function\n",
    "#take the data we have (data) and remove the row if there are missing values (.dropna(how='any')) in the latitude and longitude columns (subset=['latitude', 'longitude'])\n",
    "data = data.dropna(how='any', subset=['latitude', 'longitude'])"
   ]
  },
  {
   "cell_type": "markdown",
   "id": "499c8c7b-bb7d-49ab-90f5-cbf1c2071dc9",
   "metadata": {},
   "source": [
    "<br /><br />\n",
    "6. As we wish to plot these data on a map, and we need to set our map's projection.  Since we are in the midlatitudes, in the code below I set our map to have a Lambert Conformal Conic projection that is centered at a longitude of -95 degrees (95°W) and a central latitude of 35 degrees (35°N).  I also set the cone that defines the Lambert Conformal Conic projection to intersect the globe at 27.5°N and 42.5°N to minimize the map's distortion."
   ]
  },
  {
   "cell_type": "code",
   "execution_count": null,
   "id": "9be4533f-dadf-4cb0-b726-6d900156b452",
   "metadata": {},
   "outputs": [],
   "source": [
    "#from cartopy's coordinate reference system (crs) function, get the Lambert Conformal Conic projection (.LambertConformal()) \n",
    "#with a central longitude at -95 degrees (central_longitude=-95), a central latitude at 35 degrees (central_latitude=35)\n",
    "#and have the cone intersect at 27.5 and 42.5 degrees (standard_parallels=[27.5,42.5])\n",
    "proj = crs.LambertConformal(central_longitude=-95, central_latitude=35, standard_parallels=[27.5,42.5])"
   ]
  },
  {
   "cell_type": "markdown",
   "id": "338b862a-3f40-4135-8ba4-4f455e299a33",
   "metadata": {},
   "source": [
    "<br /><br />\n",
    "7. Upper-air station models vary in terms of whether they depict dewpoint temperature or dewpoint depression (i.e., temperature minus dewpoint temperature). In this lab, we will plot our data using dewpoint depression.  With the data being in a pandas DataFrame, we can obtain the dewpoint depression value for each station by simply subtracting the dewpoint column from the temperature column."
   ]
  },
  {
   "cell_type": "code",
   "execution_count": null,
   "id": "2311752d-55c7-4df3-932c-a34f4d3721be",
   "metadata": {},
   "outputs": [],
   "source": [
    "#take the data's temperature column values and subtract the dewpoint column values.  \n",
    "#By adding .values I completely remove all dataframe capabilities and I just get the values contained in the dataframe.\n",
    "#After subtracting the two values we save the output to our dataframe again.  Since we do not have a dewpoint-depression column\n",
    "#when we save to data[\"dewpoint-depression\"], pandas automatically creates the column with that name.\n",
    "data[\"dewpoint-depression\"] = data[\"temperature\"].values - data[\"dewpoint\"].values\n",
    "data"
   ]
  },
  {
   "cell_type": "markdown",
   "id": "4e4b249f-9019-4e84-96af-4748d058e18d",
   "metadata": {},
   "source": [
    "<br /><br />\n",
    "8. We are now ready to plot our data.  Since all plotting code must be in one cell in a Jupyter Notebook, I will explain what each code block does in the comments.  I placed the plotting code in a function since we are going to separately plot observations at multiple levels.  Placing this code into a function allows us to easily use the code again for a different level since all we have to do is call the function and pass in the new data.  Note that no plot will appear when you run this block of code. You need to call the function first before any plot would be generated."
   ]
  },
  {
   "cell_type": "code",
   "execution_count": null,
   "id": "bcc9327f-e47c-4587-9d67-4527c5b9249b",
   "metadata": {},
   "outputs": [],
   "source": [
    "\"\"\"\n",
    "In the line below I define the function create_upper_air_plot.  The purpose of this function is to create an upper-air station plot and it requires the following variables:\n",
    "\n",
    "data : PANDAS DATAFRAME\n",
    "    This is the DataFrame that holds the upper-air observation data.\n",
    "proj : CARTOPY CRS OBJECT\n",
    "    This variable holds the map projection.\n",
    "upper_air_time : DATETIME\n",
    "    This is the valid time for the observations.\n",
    "level : INTEGER\n",
    "    This is the desired observation level in hPa.\n",
    "if_dewpoint : BOOLEAN\n",
    "    Wheather we are plotting dew point (True) or dewpoint depression (False)\n",
    "\n",
    "\n",
    "\"\"\"\n",
    "\n",
    "def create_upper_air_plot(data, proj, upper_air_time, level, if_dewpoint):  \n",
    "    \"\"\"\n",
    "    This creates the figure for our plot.  Think of this as a blank piece of paper.\n",
    "    Create a figure (plt.figure()) with a size of 1000px x 1500px (figsize=(10,15)) and a resolution of 300 dots per inch (dpi=300).\n",
    "    A dpi of 300 is standard for publication figures.\n",
    "    \"\"\"\n",
    "    fig = plt.figure(figsize=(10,15),dpi=300)\n",
    "    \"\"\"\n",
    "    We now need to create the map on our figure.\n",
    "    Here, I add a plot within the figure (plt.subplot()) and set the map projection to the projection we specified before (projection=proj).\n",
    "    \"\"\"\n",
    "    ax = plt.subplot(projection = proj)\n",
    "    \"\"\"\n",
    "    Here, I add outlines of land masses, countries (BORDERS), and states with a resolution of 50m (about 0.83°).  Cartopy gives you the option of having borders with resolutions of 110m, 50m, and 10m.\n",
    "    Note that I use the zorder option in each option.  The zorder determines what is going to be drawn first.  The lower the number, the earlier it gets drawn on the maps.\n",
    "    When things get drawn earlier, other features may be drawn over that feature. The default zorder value is 5.\n",
    "    \n",
    "    ax.add_feature(cfeature.boarder_you_want.with_scale('the resolution'), edgecolor='color of your choosing', facecolor='the color of the shape outlined', \n",
    "    linewidth=the width of the outline, zorder=the order to draw the feature when compared to the other features)\n",
    "    \"\"\"\n",
    "    ax.add_feature(cfeature.LAND.with_scale('50m'), edgecolor = \"black\", facecolor='none',  linewidth=0.75, zorder=2)\n",
    "    ax.add_feature(cfeature.BORDERS.with_scale('50m'), edgecolor = \"black\",  facecolor='none', linewidth=0.75, zorder=2)\n",
    "    ax.add_feature(cfeature.STATES.with_scale('50m'), edgecolor = \"grey\", linestyle=\":\", facecolor='none', linewidth=0.5, zorder=1)\n",
    "\n",
    "    \"\"\"\n",
    "    Here I limit the plot's area to just the United States and southern Canada.\n",
    "    \n",
    "    ax.set_extent([left longitude, right longitude, bottom latitude, upper latitude], crs = the coordinate system that you used to set the extent)\n",
    "    \"\"\"\n",
    "    ax.set_extent([-130,-70,23,60], crs=crs.PlateCarree())\n",
    "    \n",
    "    \"\"\"\n",
    "    Here we setup the station plot.  This line defines the observation locations.\n",
    "    \n",
    "    StationPlot(plot variable, longitude of each station, latitude of each station, clip_on=whether to clip off values that fall outside the plot,\n",
    "    transform=the coordinate system that the data is in, fontsize=the size of the data values)\n",
    "    \"\"\"\n",
    "    stationplot = StationPlot(ax, data['longitude'].values, data['latitude'].values,\n",
    "                              clip_on=True, transform=crs.PlateCarree(), fontsize=5)\n",
    "    \n",
    "    \"\"\"\n",
    "    This line plots the temperature values on the station plot.  In an upper-air plot, we want the temperature values to be plotted in the \n",
    "    upper left, and so we tell MetPy to plot the temperature to the northwest ('NW') of the center of the station plot.\n",
    "    \n",
    "    plot_parameter(location relative to center, data values to plot, color=color of data value when plotted)\n",
    "    \"\"\"\n",
    "    stationplot.plot_parameter('NW', data['temperature'].values, color='red')\n",
    "    \n",
    "    \"\"\"\n",
    "    This line plots the dewpoint depression values.  In upper-air plots, we want the dewpoint depression to be plotted in the\n",
    "    lower left, and so we tell MetPy to plot the dewpoint depression to the southwest ('SW') of the center.\n",
    "    \"\"\"\n",
    "    if is_dewpoint == False:\n",
    "        stationplot.plot_parameter('SW', data[\"dewpoint-depression\"].values,color='darkgreen')\n",
    "        \n",
    "    \"\"\"\n",
    "    If we want dewpoint, this line plots the dewpoint to the southwest ('SW') of center.\n",
    "    \"\"\"\n",
    "    else:\n",
    "        stationplot.plot_parameter('SW', data[\"dewpoint\"].values,color='darkgreen')\n",
    "    \n",
    "    \"\"\"\n",
    "    This line plots the geopotential height values.  In upper-air plots, the geopotential height is in the upper right, and so we tell \n",
    "    MetPy to plot the geopotential height to the northeast ('NE') of the center.  We typically only want to plot the first three digits of \n",
    "    the height value, and so we have to add a formatter to this argument to do so.  The lambda command in the formatter is essentially like a function.\n",
    "    The lambda can take an argument, which in this case is v, and it has an expression, which in this case is the format function.  In the format function, we \n",
    "    take the variable v and remove the decimal places (.0) while keeping the number as a float (f).  Once the format function is finished, we keep \n",
    "    only the first three digits ([:3]).\n",
    "    \n",
    "    lambda argument : expression\n",
    "    \"\"\"\n",
    "    stationplot.plot_parameter('NE', data['height'].values, formatter = lambda v: format(v, '.0f')[:3])\n",
    "    \"\"\"\n",
    "    Here, I create a list of zeros for plotting the station plot's center symbol.  In an upper-air plot, the center symbol is always an open circle, which in MetPy is \n",
    "    specified by the symbol 0.  Thus, we need a list of zeros that is the same length as the number of stations we have.\n",
    "    The line below finds the number of latitude values are in our data, which tells us how many stations are in our data since each station has one latitude value.\n",
    "    \"\"\"\n",
    "    num_of_stations = len(data[\"latitude\"].values)\n",
    "    \n",
    "    \"\"\"\n",
    "    Here I use numpy's array of zeros function (np.zeros()) to create an array with zeros that is the same length as the number of upper-air observation stations we have.\n",
    "    Also with the dtype agument I tell numpy that I want integers rather than float values.  The zeros must be integers in order to use MetPy's center symbol function.\n",
    "    \n",
    "    np.zeros(length of array, dtype = the data type)\n",
    "    \"\"\"\n",
    "    \n",
    "    zeros = np.zeros(num_of_stations, dtype=int)\n",
    "    \n",
    "    \"\"\"\n",
    "    This line plots the center symbol by passing in our list of zeros from before.\n",
    "    I also add in the sky_cover argument to tell MetPy that the value we passed in is to plot a sky cover symbol (an open circle) rather than a number.\n",
    "    \"\"\"\n",
    "    \n",
    "    stationplot.plot_symbol('C', zeros, sky_cover)\n",
    "    \n",
    "    \"\"\"\n",
    "    Next, we use metpy's plot_barb function to draw the wind barb (representing wind speed and direction) for each station.\n",
    "    To use this function, we must pass in the u- and v-components of the wind.\n",
    "    \"\"\"\n",
    "    \n",
    "    stationplot.plot_barb(data['u_wind'].values, data['v_wind'].values)\n",
    "\n",
    "    \"\"\"\n",
    "    Finally, we need to add a title to this plot so that we and others know what is plotted on this map.\n",
    "    In the line below, I create a special kind of string called a f string.  F strings allow you to insert string variable values\n",
    "    easily into string rather than writing out a long string concatenation statement.  Here to insert a variable into the string \n",
    "    all you need to do is {variable_name}.  This type of string also works with times.  In the string below I take the upper_air_time variable\n",
    "    and, using the datetime parsing codes from Lab 1, I set the time's display as (mm/dd/yyyy HHMM).  When displayed, this string should look like the following:\n",
    "    300 hPa Observations at 08/17/2022 1200 UTC\n",
    "    \"\"\"\n",
    "    \n",
    "    plot_title= f\"{str(level)} hPa Observations at {upper_air_time:%m/%d/%Y %H%M} UTC\"\n",
    "    \n",
    "    \"\"\"\n",
    "    Here, I take our title and tell maptlotlib to add it to the plot.  I also tell matplotlib to plot the title so that it is in bold text (weight=\"bold\").\n",
    "    \"\"\"\n",
    "    \n",
    "    plt.title(plot_title, weight=\"bold\")\n",
    "\n",
    "    \"\"\"\n",
    "    Finally, let's see what our plot looks like.\n",
    "    \"\"\"\n",
    "    plt.show()\n"
   ]
  },
  {
   "cell_type": "markdown",
   "id": "3ee5c505-c847-4a4e-8b83-88526010e0ac",
   "metadata": {},
   "source": [
    "<br /><br /> \n",
    "9.  To create a plot, we need to call the function we just created.  For this, I pass in the variables containing the upper-air data, map projection information, the observation time, the desired vertical level, and if we are working with dewpoint or dewpoint depression."
   ]
  },
  {
   "cell_type": "code",
   "execution_count": null,
   "id": "b1111e91-5ab3-49a2-9aab-f364ae4942c5",
   "metadata": {},
   "outputs": [],
   "source": [
    "create_upper_air_plot(data, proj, upper_air_time, level, False)"
   ]
  },
  {
   "cell_type": "markdown",
   "id": "85318a33-6778-4073-b17c-2422ff91466a",
   "metadata": {},
   "source": [
    "<br /><br />\n",
    "10. Print out the map created in the previous step and use it to complete the rest of Part I in Lab 2. \n",
    "\n",
    "<br />\n",
    "\n",
    "---\n",
    "\n",
    "### Part II: 500 hPa\n",
    "<br />\n",
    "1. In the code block below, download the 500 hPa observations for September 14, 2022 at 1200 UTC."
   ]
  },
  {
   "cell_type": "code",
   "execution_count": null,
   "id": "fac6bd00-13cf-4f75-be97-ee28ff98537a",
   "metadata": {},
   "outputs": [],
   "source": [
    "level = 500\n",
    "#using the Iowa State upper air downloader (IAStateUpperAir) I download all available data (.request_all_data()) for a specific time (upper_air_time) and specific pressure level (level)\n",
    "data = IAStateUpperAir.request_all_data(upper_air_time, level)\n",
    "\n",
    "#the Iowa State data does not natively have the latitude and longitude data for each station we need in order to plot.\n",
    "#Here, we use MetPy's ability to add latitude and longitude data to station data (add_station_lat_lon)\n",
    "#for the data we just downloaded (data) and save it to the variable data\n",
    "data = add_station_lat_lon(data)\n",
    "\n",
    "\n"
   ]
  },
  {
   "cell_type": "markdown",
   "id": "6105060d-ecb7-4442-b6aa-d314c04d2182",
   "metadata": {},
   "source": [
    "<br /><br />\n",
    "2. In the code block below, remove the stations with missing latitude and longitude data, then compute and add dewpoint depression to the DataFrame containing the downloaded observation data."
   ]
  },
  {
   "cell_type": "code",
   "execution_count": null,
   "id": "6d8e19ca-4035-4a91-a10d-f9914541c7cc",
   "metadata": {},
   "outputs": [],
   "source": []
  },
  {
   "cell_type": "markdown",
   "id": "cc7ace58-020c-480a-9cf0-2a7cd4eb4d7a",
   "metadata": {},
   "source": [
    "<br /><br />\n",
    "3. Using these 500 hPa data, use the plotting function to plot the 500 hPa observations. Print out the resulting map and use it to complete the rest of Part II in Lab 2."
   ]
  },
  {
   "cell_type": "code",
   "execution_count": null,
   "id": "2d17c34e-22c9-4b9e-8f6a-460b687d958c",
   "metadata": {},
   "outputs": [],
   "source": []
  },
  {
   "cell_type": "markdown",
   "id": "05a5c1e2-3e7a-4a28-98c0-1bf7ddfda10b",
   "metadata": {},
   "source": [
    "<br /><br />\n",
    "\n",
    "---\n",
    "\n",
    "### Part III: 850 hPa\n",
    "1. Repeat Part II, except for 850 hPa, with one change: do not compute and plot dewpoint depression, but instead plot the dewpoint temperature. Print out the resulting map and use it to complete the rest of Part II in Lab 2. Be sure that you plot dewpoint not dewpoint depression."
   ]
  },
  {
   "cell_type": "code",
   "execution_count": null,
   "id": "be51abc3-5c63-4044-8f28-f60bbda257f3",
   "metadata": {},
   "outputs": [],
   "source": []
  },
  {
   "cell_type": "markdown",
   "id": "be6b079d-4b33-4bea-a6dd-cb0ed84f46ed",
   "metadata": {},
   "source": [
    "<br /><br />\n",
    "### You have now completed the tutorial part of Lab 2.  Be sure upload a fully rendered version of this Jupyter Notebook to your GitHub repository."
   ]
  }
 ],
 "metadata": {
  "kernelspec": {
   "display_name": "Python 3 (ipykernel)",
   "language": "python",
   "name": "python3"
  },
  "language_info": {
   "codemirror_mode": {
    "name": "ipython",
    "version": 3
   },
   "file_extension": ".py",
   "mimetype": "text/x-python",
   "name": "python",
   "nbconvert_exporter": "python",
   "pygments_lexer": "ipython3",
   "version": "3.7.12"
  }
 },
 "nbformat": 4,
 "nbformat_minor": 5
}
