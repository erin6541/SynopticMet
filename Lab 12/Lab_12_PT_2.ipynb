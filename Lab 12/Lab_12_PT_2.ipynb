{
 "cells": [
  {
   "cell_type": "markdown",
   "id": "3e3cdb32-bcaa-4356-8dd1-7e103d465b3e",
   "metadata": {},
   "source": [
    "## Lab 12 Part II: Plotting Vertical Equivalent Potential Temperature\n",
    "<br /><br />\n",
    "In this final exercise, we are going to create a vertical profile of equivalent potential temperature to find our most unstable parcel.\n",
    "<br />\n",
    "\n",
    "If you have any questions about the code below, feel free to reach out to me at mpvossen@uwm.edu. I am always willing to further explain the code. <br /> <br />\n",
    "\n",
    "---\n",
    "\n",
    "<br />\n",
    "1. As usual, we start by importing the modules we need for our Python code."
   ]
  },
  {
   "cell_type": "code",
   "execution_count": null,
   "id": "80c2e492-0d91-4e68-afb6-ee0bbb86fe0c",
   "metadata": {
    "tags": []
   },
   "outputs": [],
   "source": [
    "#from python's date and time module (from datetime) import the ability to work with date and times (import datetime)\n",
    "from datetime import datetime\n",
    "\n",
    "#using the module siphon and its ability to retrieve files from online (.simplewebservice) specifically for the University of Wyoming (.wyoming), \n",
    "#import the ability to download from the University of Wyoming's upper-air data archive\n",
    "from siphon.simplewebservice.wyoming import WyomingUpperAir\n",
    "\n",
    "#import the plotting abilities of the module matplotlib (import matplotlib.pyplot) and save it to plt\n",
    "import matplotlib.pyplot as plt\n",
    "\n",
    "#import the metpy calc module as calc\n",
    "import metpy.calc as calc\n",
    "\n",
    "#from metpy units module import the units function\n",
    "from metpy.units import units\n",
    "\n",
    "#from the metpy's units feature (metpy.units) import the ability to assign and convert units (units)\n",
    "from metpy.units import units\n",
    "\n",
    "#import the numpy module as np\n",
    "import numpy as np"
   ]
  },
  {
   "cell_type": "markdown",
   "id": "99f47963-cb24-4432-8ead-17f38ac1bf1c",
   "metadata": {},
   "source": [
    "<br /><br />\n",
    "2. In the code section below, I retrieve the sounding data for May 20th, 2013 at 1200 UTC and calculate equivalent potential temperature for you.  The resulting equivalent potential temperature is saved back to the pandas data frame as \"theta-e\"."
   ]
  },
  {
   "cell_type": "code",
   "execution_count": null,
   "id": "3f4cb031-8786-4904-8e1d-548e61daacab",
   "metadata": {},
   "outputs": [],
   "source": [
    "site = \"OUN\"\n",
    "time = datetime(2013,5,20,12)\n",
    "data = WyomingUpperAir.request_data(time, site)\n",
    "data[\"theta-e\"] = calc.equivalent_potential_temperature(np.array(data[\"pressure\"]) * units.hPa, np.array(data[\"temperature\"]) * units.degC, np.array(data[\"dewpoint\"]) * units.degC)\n",
    "data"
   ]
  },
  {
   "cell_type": "markdown",
   "id": "57a47890-d1a1-456d-b8ca-c79f10942579",
   "metadata": {},
   "source": [
    "<br /><br />\n",
    "3.  Now that you have the data to work with, we are ready to create an equivalent potential temperature plot.  An example of this kind of plot can be found in the link below.  Using the example plot as a guide create a plot in matplotlib to show theta-e with height.  Be sure to have an appropriate axis labels and a title.  I've given you reference guides to various functions that you may need below.  (hint: you need to start by setting up the figure like normal)\n",
    "\n",
    "#### Example Plot:\n",
    "https://panthers.sharepoint.com/:i:/s/InnovativeWeatherWebsite-Group/EflvdcvIegNNvoeF5dYDTx0BZk8E2dSTefTWxVT3tdZy9g\n",
    "\n",
    "\n",
    "#### References\n",
    "Plot: https://matplotlib.org/stable/api/_as_gen/matplotlib.pyplot.plot.html<br>\n",
    "xlabel: https://matplotlib.org/stable/api/_as_gen/matplotlib.pyplot.xlabel.html<br>\n",
    "ylabel: https://matplotlib.org/stable/api/_as_gen/matplotlib.pyplot.ylabel.html<br>\n",
    "title: https://matplotlib.org/stable/api/_as_gen/matplotlib.pyplot.title.html<br>\n"
   ]
  },
  {
   "cell_type": "code",
   "execution_count": null,
   "id": "bcc8a9b3-3c57-422a-a6d7-298d2c0003cc",
   "metadata": {},
   "outputs": [],
   "source": [
    "\n",
    "plt.ylim(1000,200)\n",
    "plt.xlim(275,400)\n"
   ]
  },
  {
   "cell_type": "markdown",
   "id": "24da137c-8505-40a4-a2b2-29765a6769da",
   "metadata": {},
   "source": [
    "4. In the section below rerun your theta-e plot for ILX on Feburary 2nd, 2011."
   ]
  },
  {
   "cell_type": "code",
   "execution_count": null,
   "id": "64e51e15-cfa7-4ec0-b939-59da57e71e7c",
   "metadata": {},
   "outputs": [],
   "source": []
  },
  {
   "cell_type": "markdown",
   "id": "3ef724af-8c2e-4f19-848b-9218dca03c25",
   "metadata": {},
   "source": [
    "### You have now completed Python portion of the lab.  Be sure to submit the fully rendered Jupyter Notebook on GitHub when you are finished."
   ]
  }
 ],
 "metadata": {
  "kernelspec": {
   "display_name": "Python 3 (ipykernel)",
   "language": "python",
   "name": "python3"
  },
  "language_info": {
   "codemirror_mode": {
    "name": "ipython",
    "version": 3
   },
   "file_extension": ".py",
   "mimetype": "text/x-python",
   "name": "python",
   "nbconvert_exporter": "python",
   "pygments_lexer": "ipython3",
   "version": "3.7.12"
  }
 },
 "nbformat": 4,
 "nbformat_minor": 5
}
