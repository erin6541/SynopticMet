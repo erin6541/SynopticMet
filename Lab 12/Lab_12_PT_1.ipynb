{
 "cells": [
  {
   "cell_type": "markdown",
   "id": "3e3cdb32-bcaa-4356-8dd1-7e103d465b3e",
   "metadata": {},
   "source": [
    "## Lab 12 Part I: Plotting Skew-<i>T</i>, ln-<i>p</i> diagrams\n",
    "<br /><br />\n",
    "In this next to final exercise, we are going to create more Skew-<i>T</i>, ln-<i>p</i> diagrams at multiple specified locations using observations to aid in identifying common features. \n",
    "<br />\n",
    "### Module Documentation\n",
    "\n",
    "1. Matplotlib Pyplot: https://matplotlib.org/stable/api/_as_gen/matplotlib.pyplot.html\n",
    "2. Siphon Wyoming Upper Air: https://unidata.github.io/siphon/latest/api/simplewebservice.html#siphon.simplewebservice.wyoming.WyomingUpperAir.request_data\n",
    "3. MetPy Skew T: https://unidata.github.io/MetPy/latest/api/generated/metpy.plots.SkewT.html\n",
    "\n",
    "\n",
    "\n",
    "\n",
    "If you have any questions about the code below, feel free to reach out to me at mpvossen@uwm.edu. I am always willing to further explain the code. <br /> <br />\n",
    "\n",
    "---\n",
    "\n",
    "<br />\n",
    "1. As usual, we start by importing the modules we need for our Python code."
   ]
  },
  {
   "cell_type": "code",
   "execution_count": null,
   "id": "80c2e492-0d91-4e68-afb6-ee0bbb86fe0c",
   "metadata": {},
   "outputs": [],
   "source": [
    "#from python's date and time module (from datetime) import the ability to work with date and times (import datetime)\n",
    "from datetime import datetime\n",
    "\n",
    "#using the module siphon and its ability to retrieve files from online resources (.simplewebservice), specifically for the University of Wyoming (.wyoming), \n",
    "#import the ability to download from the University of Wyoming's upper-air data archive\n",
    "from siphon.simplewebservice.wyoming import WyomingUpperAir\n",
    "\n",
    "#from metpy's plotting abilities, import the SkewT plotting class\n",
    "from metpy.plots import SkewT\n",
    "\n",
    "#import the plotting abilities of the module matplotlib (import matplotlib.pyplot) and save it to plt\n",
    "import matplotlib.pyplot as plt\n",
    "\n",
    "#from metpy's units feature (metpy.units), import the ability to assign and convert units (units)\n",
    "from metpy.units import units"
   ]
  },
  {
   "cell_type": "markdown",
   "id": "88de5db7-6322-4e3f-a09b-3d007ac913ed",
   "metadata": {},
   "source": [
    "<br /><br />\n",
    "2. To make things easy today, copy your skew-T plotting function from Lab 11 into the cell below since we need the same plots as in Lab 11."
   ]
  },
  {
   "cell_type": "code",
   "execution_count": null,
   "id": "af32ce46-361e-4611-ab2b-15e1746b3456",
   "metadata": {},
   "outputs": [],
   "source": []
  },
  {
   "cell_type": "markdown",
   "id": "99f47963-cb24-4432-8ead-17f38ac1bf1c",
   "metadata": {},
   "source": [
    "<br /><br />\n",
    "3. In the code section below, we need to make 5 Skew-T plots for the dates and stations below.  In the code cell below, setup a loop similar to that in Lab 11 to generate the required soundings.\n",
    "\n",
    "| Time | Sounding Site |\n",
    "|:----:|:----------:|\n",
    "| 5/20/2013 1200 UTC | OUN |\n",
    "| 7/12/2016 0000 UTC | MPX |\n",
    "| 2/2/2011 0000 UTC | ILX |\n",
    "| 5/3/1999 1200 UTC | OUN |\n",
    "| 5/19/2013 1200 UTC | OUN|\n"
   ]
  },
  {
   "cell_type": "code",
   "execution_count": null,
   "id": "3f4cb031-8786-4904-8e1d-548e61daacab",
   "metadata": {},
   "outputs": [],
   "source": []
  },
  {
   "cell_type": "markdown",
   "id": "3ef724af-8c2e-4f19-848b-9218dca03c25",
   "metadata": {},
   "source": [
    "### You have now completed Part I of the lab.  Be sure to submit the fully rendered Jupyter Notebook on GitHub when you are finished."
   ]
  }
 ],
 "metadata": {
  "kernelspec": {
   "display_name": "Python 3 (ipykernel)",
   "language": "python",
   "name": "python3"
  },
  "language_info": {
   "codemirror_mode": {
    "name": "ipython",
    "version": 3
   },
   "file_extension": ".py",
   "mimetype": "text/x-python",
   "name": "python",
   "nbconvert_exporter": "python",
   "pygments_lexer": "ipython3",
   "version": "3.7.12"
  }
 },
 "nbformat": 4,
 "nbformat_minor": 5
}
