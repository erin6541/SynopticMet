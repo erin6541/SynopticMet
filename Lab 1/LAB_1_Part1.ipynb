{
 "cells": [
  {
   "cell_type": "markdown",
   "id": "700343c7-a16d-4683-83c4-c6b073dbb9ee",
   "metadata": {
    "tags": []
   },
   "source": [
    "## Lab 1 Part I: METARs\n",
    "#### 9/7/2022\n",
    "\n",
    "\n",
    "The following tutorial is the first of three parts of the Python portion of Lab 1.  In this part, we will focus on how to work with METAR data in python using the MetPy and Pandas modules.  As with every future lab, I will include a link to the documentation of each module that we introduce for the first time.\n",
    "<br />\n",
    "### Module Documentation\n",
    "1. MetPy Metar Parsing Function: https://unidata.github.io/MetPy/latest/api/generated/metpy.io.parse_metar_file.html\n",
    "2. Pandas DataFrame: https://pandas.pydata.org/pandas-docs/stable/reference/api/pandas.DataFrame.html\n",
    "3. The datetime function from the datetime module: https://docs.python.org/3/library/datetime.html\n",
    "\n",
    "\n",
    "<br /><br />\n",
    "\n",
    "If you have any questions about the code below, always feel free to reach out to me at mpvossen@uwm.edu. I am always willing to further explain the code. <br /> <br />\n",
    "\n",
    "\n",
    "1. In most things we do in atmospheric science, we can save ourselves time by importing code (called <i>modules</i>) that someone else has written.  In the section below, I load the Python modules we are going to need to complete this portion of the lab."
   ]
  },
  {
   "cell_type": "code",
   "execution_count": null,
   "id": "0a23b168-628c-492a-9acb-67a4dcaffc64",
   "metadata": {},
   "outputs": [],
   "source": [
    "#from the data reading capabilities of metpy (metpy.io) import the metar reading capability (parse_metar_file)\n",
    "from metpy.io import parse_metar_file\n",
    "\n",
    "#import the data storage for the metar data.  This package lays the data out in a table like format\n",
    "import pandas as pd\n",
    "\n",
    "#from the dates and time code(datetime), import the date and time reading capabilities (datetime).\n",
    "from datetime import datetime\n",
    "\n",
    "#from python's data import module (io) import the ability to read a string as a file.  This allows us to avoid downloading files which speeds things up and keeps your files storage clean.\n",
    "from io import StringIO\n",
    "\n",
    "#import the module to download files from the internet\n",
    "import requests"
   ]
  },
  {
   "cell_type": "markdown",
   "id": "0a28ab89-a468-4b0b-ba0e-37183058f488",
   "metadata": {},
   "source": [
    "<br /><br />\n",
    "2. In the next part of the lab, we need to convert surface observation data between units since the data are not always in the desired units.  Below is a sample function for how to convert wind from knots to mph. <br />"
   ]
  },
  {
   "cell_type": "code",
   "execution_count": null,
   "id": "8dd40275-da7f-4e5a-89bc-c78ea0685a23",
   "metadata": {},
   "outputs": [],
   "source": [
    "#here the function is defined.  The def command says to define the function of the name convert_knots_to_mph with the input variable of the name value\n",
    "def convert_knots_to_mph(value):\n",
    "    \n",
    "    #this line causes the function to return a value.  Here I'm returning the input variable divided by 0.868976, the conversion factor between kt and MPH. We alternatively could multiply by 1.15 to get the same result.\n",
    "    #note the indentation of this line - Python uses indentation to organize and execute its code.\n",
    "    return value / 0.868976\n",
    "    "
   ]
  },
  {
   "cell_type": "markdown",
   "id": "83f30f58-9b85-4c41-8ce2-573bd9c8dfc7",
   "metadata": {},
   "source": [
    "<br /><br />In the section below, create a function to convert a temperature value from °C to °F.  Name the function convert_c_to_f. <br />"
   ]
  },
  {
   "cell_type": "code",
   "execution_count": null,
   "id": "0e3ee8fd-dc70-494c-b4e8-8f13915dc832",
   "metadata": {},
   "outputs": [],
   "source": []
  },
  {
   "cell_type": "markdown",
   "id": "81ab8807-1996-4964-9d5f-113e3915bb88",
   "metadata": {},
   "source": [
    "<br /><br />\n",
    "\n",
    "3. Let's acquire some METAR data.  First, we will need to download the METAR data from the Unidata THREDDS server.  This code relies on the modules imported earlier in this notebook. When you run this code, it may take up to 10 seconds to run.  Note: If you want to get your own surface data, you would go to https://thredds-test.unidata.ucar.edu/thredds/catalog/noaaport/text/metar/catalog.html.<br /> <br />\n",
    "\n"
   ]
  },
  {
   "cell_type": "code",
   "execution_count": null,
   "id": "d600f675-92d2-45e9-baaa-259ff1902d23",
   "metadata": {},
   "outputs": [],
   "source": [
    "#Here I set the create the variable that holds the time in UTC for which we want the METAR data.\n",
    "#datetime(year, month, day, hour)\n",
    "file_time = datetime(2022,9,7,18)\n",
    "\n",
    "#Here I build the url to get the data.  Most of the url stays the same but the metar file name changes based on the date and hour that it is valid for.\n",
    "#right before the quote I have the letter f, which means the values in the quotes after are what is called a formatted string.\n",
    "#The formatted string allows us to use the file time that we defined before to generate the string.  Below I use this file time when I have\n",
    "#{file_time:%Y%m%d_%H}.  This stands for {time variable:datetime format}.  For the datetime format there are special codes that \n",
    "#tell the string which value to insert.  To see what each code stands for, refer to the datetime module's documentation.\n",
    "url = f\"https://thredds-test.unidata.ucar.edu/thredds/fileServer/noaaport/text/metar/metar_{file_time:%Y%m%d_%H}00.txt\"\n",
    "\n",
    "#using the request module use the get function to retrieve the raw website data from the url we defined above\n",
    "web_data = requests.get(url)\n",
    "\n",
    "#here we take the web data from before and pull of the content (.content) from the web_data object.  \n",
    "#Then we take the content and decode it to something that we can use rather than the website html (.decode())\n",
    "web_content = web_data.content.decode()\n",
    "\n",
    "#Here we take the decoded web content from above and make it a file object.  This avoids downloading the data to your file system which\n",
    "#speeds things up, and it keeps your file space from becoming cluttered.  Instead, this puts the METAR file directly to the RAM of the machine\n",
    "data_file = StringIO(web_content)\n",
    "\n",
    "\n",
    "#we now tell metpy to parse out the file we have downloaded (data_file).  Also Metpy only can get the day of the month\n",
    "#from the METAR, so we need to specify the month (file_time.month) and year (file_time.year) from the file time that we set before\n",
    "#or else it will assume the current month and year.  \n",
    "metar_data = parse_metar_file(data_file, month = file_time.month, year=file_time.year)\n",
    "\n",
    "#below you can see that the data is parse out and now is in a form that is similar to a table.  This is called a data frame.\n",
    "#also in Jupyter you can display one variable by typing out the variable name like I did below. (Note: this does not work outside Jupyter)\n",
    "#if you need to display multiple variables in a cell, you will need to use the print statement instead\n",
    "metar_data"
   ]
  },
  {
   "cell_type": "markdown",
   "id": "6d0ab42a-3567-4ea3-9871-e30eb1f35312",
   "metadata": {},
   "source": [
    "\n",
    "<br /><br />\n",
    "3. We now have parsed our data parsed.  The data is stored in something that is called a Pandas DataFrame, which you can visualize to be just like a table of data that you would see in a textbook or an Excel spreadsheet.  There are column names and row names for the table that we can use to access various parts of the data.  \n",
    "\n",
    "With the way that MetPy prases the METAR data, the row names are the station names and the column names are the observation quantity names.  This structure is useful because sometimes when working with METAR data we need to get an observation for a single location.  In the code below, I use Pandas' syntax to get O'Hare Airport's observations in our sample file.  Multiple times may appear since O'Hare may make multiple observations during the requested hour. <br />\n"
   ]
  },
  {
   "cell_type": "code",
   "execution_count": null,
   "id": "82250fb0-23bb-44c4-96bf-ae8052b7d176",
   "metadata": {},
   "outputs": [],
   "source": [
    "#set the site variable to a string of O'Hare's 4 letter identifier\n",
    "site = \"KORD\"\n",
    "\n",
    "#from the metar data frame (the metar_data variable) slice out the row (.loc[]) that has the index that is for the site we want (site) and save it to the variable station.\n",
    "station = metar_data.loc[site]\n",
    "\n",
    "#display the sliced data for O'Hare. The data may look different, but it is still setup the same as the cell above.\n",
    "station"
   ]
  },
  {
   "cell_type": "markdown",
   "id": "ffd6a290-2d19-42b1-a4f1-f782ff096644",
   "metadata": {},
   "source": [
    "<br /> <br /> \n",
    "4. We can also parse out specific variables by using the syntax below. <br />"
   ]
  },
  {
   "cell_type": "code",
   "execution_count": null,
   "id": "9f5f1542-f3a6-4755-a0d5-39dcff13da44",
   "metadata": {},
   "outputs": [],
   "source": [
    "#from the data that only contains the metar for KORD (station) slice out the column named \"windspeed\" and save it to the variable station_wind.  \n",
    "#For columns we can just do the brackets and we don't need a function like the .loc() function that we needed before for the row.\n",
    "station_wind = station[\"wind_speed\"]\n",
    "\n",
    "#display the variable that we saved the wind speed data from KORD to.\n",
    "station_wind"
   ]
  },
  {
   "cell_type": "markdown",
   "id": "da005306-7b70-4769-943b-9d6d27fda726",
   "metadata": {},
   "source": [
    "<br /><br />\n",
    "5. The parsed observation is in the standard METAR wind speed units of kt.  We can convert these units by using the conversion function we created before:\n",
    "<br />"
   ]
  },
  {
   "cell_type": "code",
   "execution_count": null,
   "id": "b8ad0fb3-559d-4287-9f41-5a4568c40b11",
   "metadata": {},
   "outputs": [],
   "source": [
    "#using the convert_knots_to_mph function that I defined before to convert the wind speed for KORD (station_wind) from knots to mph and save the output from the function to the variable station_wind_mph.\n",
    "station_wind_mph = convert_knots_to_mph(station_wind)\n",
    "#display the station wind speed that resulted from the function above\n",
    "station_wind_mph"
   ]
  },
  {
   "cell_type": "markdown",
   "id": "e5dbcbf6-1c2a-4c40-83e1-087388da2578",
   "metadata": {},
   "source": [
    "<br /><br />\n",
    "6. In the code section below, parse out the temperature (air_temperature), dewpoint (dew_point_temperature), pressure (air_pressure_at_sea_level), wind speed (wind_speed), wind direction (wind_direction), and cloud coverage (cloud_coverage) for Madison (KMSN).  Display the output so you can use it to answer question 6 in the lab.  Be sure to convert temperature and dewpoint to the appropriate units.\n",
    "<br /><br />"
   ]
  },
  {
   "cell_type": "code",
   "execution_count": null,
   "id": "2cd2486e-b83e-4732-b84c-c606807f3e33",
   "metadata": {},
   "outputs": [],
   "source": []
  },
  {
   "cell_type": "markdown",
   "id": "4638d98c-8893-4f93-ae75-3e5b6379ee22",
   "metadata": {},
   "source": [
    "<br /><br />\n",
    "\n",
    "You have now completed Part I of the Python portion of Lab 1.  Be sure to submit the fully rendered Jupyter Notebook on GitHub when you are finished."
   ]
  }
 ],
 "metadata": {
  "kernelspec": {
   "display_name": "Python 3 (ipykernel)",
   "language": "python",
   "name": "python3"
  },
  "language_info": {
   "codemirror_mode": {
    "name": "ipython",
    "version": 3
   },
   "file_extension": ".py",
   "mimetype": "text/x-python",
   "name": "python",
   "nbconvert_exporter": "python",
   "pygments_lexer": "ipython3",
   "version": "3.7.12"
  }
 },
 "nbformat": 4,
 "nbformat_minor": 5
}
