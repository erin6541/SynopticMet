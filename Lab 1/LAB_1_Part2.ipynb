{
 "cells": [
  {
   "cell_type": "markdown",
   "id": "700343c7-a16d-4683-83c4-c6b073dbb9ee",
   "metadata": {
    "tags": []
   },
   "source": [
    "## Lab 1 Part II: Accessing Rawinsonde Data\n",
    "#### 9/7/2022\n",
    "\n",
    "\n",
    "The following tutorial is the second of three parts of the Python portion of Lab 1.  In this part, we will focus on how to work with rawinsonde data in Python using the Siphon and Pandas modules.\n",
    "<br />\n",
    "\n",
    "### Module Documentation\n",
    "1. Pandas DataFrame: https://pandas.pydata.org/pandas-docs/stable/reference/api/pandas.DataFrame.html\n",
    "2. The datetime function from the datetime module: https://docs.python.org/3/library/datetime.html\n",
    "3. Wyoming Upper Air Data via Siphon: https://unidata.github.io/siphon/latest/api/simplewebservice.html#module-siphon.simplewebservice.wyoming\n",
    "\n",
    "\n",
    "<br /><br />\n",
    "\n",
    "If you have any questions about the code below, always feel free to reach out to me at mpvossen@uwm.edu. I am always willing to further explain the code. <br /> <br />\n",
    "\n",
    "\n",
    "1.  Before we start downloading rawinsonde data, we first need to import the python modules that we need:\n",
    "<br />"
   ]
  },
  {
   "cell_type": "code",
   "execution_count": null,
   "id": "190f19af-d025-4d20-ab09-a790a027678a",
   "metadata": {},
   "outputs": [],
   "source": [
    "#from python's date and time module (from datetime) import the ability to work with date and times (import datetime)\n",
    "from datetime import datetime\n",
    "\n",
    "#using the siphon module and its ability to remotely retrieve files (.simplewebservice) specifically from the University of Wyoming (.wyoming), \n",
    "#import the ability to download the University of Wyoming's upper-air data.\n",
    "from siphon.simplewebservice.wyoming import WyomingUpperAir"
   ]
  },
  {
   "cell_type": "markdown",
   "id": "fbddbb06-6b98-493b-851e-b3b631638ccb",
   "metadata": {},
   "source": [
    "<br /><br />\n",
    "2. Now with the packages we need, lets choose what rawinsonde observation we want.  Below I set the date, time, and location of the rawinsonde observation that I want.  For this assignment, we want Green Bay's (GRB) 1200 UTC upper-air observation from 9/7/2022."
   ]
  },
  {
   "cell_type": "code",
   "execution_count": null,
   "id": "bd2e7f28-4b72-47ec-8377-b69045246997",
   "metadata": {},
   "outputs": [],
   "source": [
    "#Here I set the create the variable that holds the time in UTC for which we want the rawinsonde data.\n",
    "#datetime(year, month, day, hour)\n",
    "sounding_date = datetime(2022,9,7,12)\n",
    "\n",
    "#We want to set a variable to the identifier for the desired rawinsonde station.\n",
    "station = \"GRB\""
   ]
  },
  {
   "cell_type": "markdown",
   "id": "fd5f8e94-c1d3-45a8-a334-182fb0e38c7c",
   "metadata": {},
   "source": [
    "<br /><br />\n",
    "3. With our location and time set, we are ready to download the rawinsonde file using Siphon."
   ]
  },
  {
   "cell_type": "code",
   "execution_count": null,
   "id": "ed496ffe-1d58-46b1-9b50-41b656699951",
   "metadata": {},
   "outputs": [],
   "source": [
    "#using the Wyoming upper air rawinsonde downloader we imported above (WyomingUpperAir), get the data (.request_data) for the desired location and time.  \n",
    "#also with the .set_index(\"pressure\") I set the index of the data frame to be pressure so we can use data.loc[pressure] to get the data at a specified pressure.\n",
    "upper_air_data = WyomingUpperAir.request_data(sounding_date, station).set_index(\"pressure\")\n",
    "\n",
    "#display the rawinsonde observation.  Once again the data is in a Pandas DataFrame.\n",
    "upper_air_data"
   ]
  },
  {
   "cell_type": "markdown",
   "id": "5506f77f-f4e2-45a4-b5e4-7a5cb12712f0",
   "metadata": {},
   "source": [
    "<br /><br />\n",
    "4. Next, let's determine the Pandas DataFrame column names.  By looking at the column names, we are also looking at what observation variables are contained in the downloaded rawinsonde data:"
   ]
  },
  {
   "cell_type": "code",
   "execution_count": null,
   "id": "fb9bcacf-f059-4321-afeb-ee2c3f0ce020",
   "metadata": {},
   "outputs": [],
   "source": [
    "#display the column names for the rawinsonde data dataframe.\n",
    "upper_air_data.columns"
   ]
  },
  {
   "cell_type": "markdown",
   "id": "89498bbc-6527-4164-bd53-68ea7c1f7354",
   "metadata": {},
   "source": [
    "<br /><br />\n",
    "5. Just like with the METAR data, we are able to parse out specific variables for specific heights using Pandas DataFrame parsing syntax:"
   ]
  },
  {
   "cell_type": "code",
   "execution_count": null,
   "id": "22f5416d-e2dd-4812-941d-3132a4e08d59",
   "metadata": {},
   "outputs": [],
   "source": [
    "#display the geopotential height at 500 hPa for the rawinsonde observation we downloaded\n",
    "#we only need to specify a location of 500 because we previously requested the data to vary by pressure\n",
    "upper_air_data[\"height\"].loc[500]"
   ]
  },
  {
   "cell_type": "markdown",
   "id": "d5cb02d0-3e71-4050-bcf3-ab9102d5351c",
   "metadata": {},
   "source": [
    "<br /><br />\n",
    "6.  In the code section below, parse out the 1200 UTC 9/7/22 Green Bay, WI (KGRB) 300 hPa temperature, dewpoint, wind speed, wind direction, and geopotential height.  Display all of the variables so you can use them to answer question 8 in Lab 1."
   ]
  },
  {
   "cell_type": "code",
   "execution_count": null,
   "id": "9adf54a3-2fe3-4aef-b630-5fd418dcac8c",
   "metadata": {},
   "outputs": [],
   "source": []
  },
  {
   "cell_type": "markdown",
   "id": "4638d98c-8893-4f93-ae75-3e5b6379ee22",
   "metadata": {},
   "source": [
    "<br /><br />\n",
    "\n",
    "You have now completed Part II of the Python portion of Lab 1.  Be sure to submit the fully rendered Jupyter Notebook on GitHub when you are finished."
   ]
  }
 ],
 "metadata": {
  "kernelspec": {
   "display_name": "Python 3 (ipykernel)",
   "language": "python",
   "name": "python3"
  },
  "language_info": {
   "codemirror_mode": {
    "name": "ipython",
    "version": 3
   },
   "file_extension": ".py",
   "mimetype": "text/x-python",
   "name": "python",
   "nbconvert_exporter": "python",
   "pygments_lexer": "ipython3",
   "version": "3.7.12"
  }
 },
 "nbformat": 4,
 "nbformat_minor": 5
}
