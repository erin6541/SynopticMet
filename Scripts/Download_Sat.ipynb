{
 "cells": [
  {
   "cell_type": "code",
   "execution_count": 5,
   "id": "d2487cc0-7663-46bb-99df-f41fb8b30739",
   "metadata": {},
   "outputs": [],
   "source": [
    "import s3fs\n",
    "import os\n",
    "from datetime import datetime\n",
    "\n",
    "time = datetime(2022,9,23,18)\n",
    "\n",
    "channel = \"02\"\n",
    "\n",
    "lab_number = \"10\"\n",
    "\n",
    "lab_location = f\"/data/AtmSci360/Lab_{lab_number}/\"\n",
    "\n",
    "os.makedirs(lab_location, exist_ok=\"True\")\n",
    "aws = s3fs.S3FileSystem(anon=True)\n",
    "files = aws.ls(f'noaa-goes16/ABI-L1b-RadC/{time:%Y}/{time:%j}/{time:%H}/')\n",
    "\n",
    "channel_files = []\n",
    "\n",
    "for file in files:\n",
    "    if file.find(f'M6C{channel}') != -1:\n",
    "        channel_files.append(file)\n",
    "final_file = channel_files[0]\n",
    "aws_file = s3fs.S3File(aws, final_file)\n",
    "file_name = f\"{lab_location}{time:%m%d%y_%H}_goes16.nc\"\n",
    "\n",
    "file_data = aws_file.readlines()\n",
    "file = open(file_name, 'wb')\n",
    "file.writelines(file_data)\n",
    "file.close()\n",
    "aws_file.close()"
   ]
  },
  {
   "cell_type": "code",
   "execution_count": null,
   "id": "8e009377-d401-47e0-a2a5-eef2c39024b6",
   "metadata": {},
   "outputs": [],
   "source": []
  },
  {
   "cell_type": "code",
   "execution_count": null,
   "id": "c9dc596e-c9cc-4559-b707-3b0f00548381",
   "metadata": {},
   "outputs": [],
   "source": []
  }
 ],
 "metadata": {
  "kernelspec": {
   "display_name": "Python 3 (ipykernel)",
   "language": "python",
   "name": "python3"
  },
  "language_info": {
   "codemirror_mode": {
    "name": "ipython",
    "version": 3
   },
   "file_extension": ".py",
   "mimetype": "text/x-python",
   "name": "python",
   "nbconvert_exporter": "python",
   "pygments_lexer": "ipython3",
   "version": "3.7.12"
  }
 },
 "nbformat": 4,
 "nbformat_minor": 5
}
